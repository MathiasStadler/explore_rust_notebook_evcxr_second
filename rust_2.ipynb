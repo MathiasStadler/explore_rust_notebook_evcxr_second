{
 "cells": [
  {
   "cell_type": "markdown",
   "metadata": {},
   "source": [
    "[FROM HERE - Trying with Jupyter evcxr Kernel Interactively](https://crates.io/crates/plotters#trying-with-jupyter-evcxr-kernel-interactively)"
   ]
  },
  {
   "cell_type": "markdown",
   "metadata": {},
   "source": [
    "- Load dependencies"
   ]
  },
  {
   "cell_type": "code",
   "execution_count": null,
   "metadata": {
    "vscode": {
     "languageId": "rust"
    }
   },
   "outputs": [],
   "source": [
    ":dep plotters = { version = \"^0.3.6\", default_features = false, features = [\"evcxr\", \"all_series\", \"all_elements\"] }"
   ]
  },
  {
   "cell_type": "markdown",
   "metadata": {},
   "source": [
    "- sample code"
   ]
  },
  {
   "cell_type": "code",
   "execution_count": null,
   "metadata": {
    "vscode": {
     "languageId": "rust"
    }
   },
   "outputs": [],
   "source": [
    "extern crate plotters;\n",
    "use plotters::prelude::*;\n",
    "\n",
    "let figure = evcxr_figure((640, 480), |root| {\n",
    "    root.fill(&WHITE)?;\n",
    "    let mut chart = ChartBuilder::on(&root)\n",
    "        .caption(\"y=x^2\", (\"Arial\", 50).into_font())\n",
    "        .margin(5)\n",
    "        .x_label_area_size(30)\n",
    "        .y_label_area_size(30)\n",
    "        .build_cartesian_2d(-1f32..1f32, -0.1f32..1f32)?;\n",
    "\n",
    "    chart.configure_mesh().draw()?;\n",
    "\n",
    "    chart.draw_series(LineSeries::new(\n",
    "        (-50..=50).map(|x| x as f32 / 50.0).map(|x| (x, x * x )),\n",
    "        &RED,\n",
    "    )).unwrap()\n",
    "        .label(\"y = x^2\")\n",
    "        .legend(|(x,y)| PathElement::new(vec![(x,y), (x + 20,y)], &RED));\n",
    "\n",
    "    chart.configure_series_labels()\n",
    "        .background_style(&WHITE.mix(0.8))\n",
    "        .border_style(&BLACK)\n",
    "        .draw()?;\n",
    "    Ok(())\n",
    "});\n",
    "figure\n"
   ]
  }
 ],
 "metadata": {
  "kernelspec": {
   "display_name": "Rust",
   "language": "rust",
   "name": "rust"
  },
  "language_info": {
   "codemirror_mode": "rust",
   "file_extension": ".rs",
   "mimetype": "text/rust",
   "name": "Rust",
   "pygment_lexer": "rust",
   "version": ""
  }
 },
 "nbformat": 4,
 "nbformat_minor": 2
}
